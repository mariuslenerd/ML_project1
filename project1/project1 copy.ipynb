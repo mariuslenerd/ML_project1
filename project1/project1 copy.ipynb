{
 "cells": [
  {
   "cell_type": "code",
   "execution_count": 72,
   "id": "87e6083d",
   "metadata": {},
   "outputs": [
    {
     "data": {
      "text/plain": [
       "<module 'cross_validation' from '/Users/christophersoriano/Library/Mobile Documents/com~apple~CloudDocs/Mac/Epfl/Master/MA3/Machine Learning/ML_project1/project1/cross_validation.py'>"
      ]
     },
     "execution_count": 72,
     "metadata": {},
     "output_type": "execute_result"
    }
   ],
   "source": [
    "import numpy as np\n",
    "import matplotlib.pyplot as plt\n",
    "from helpers import *\n",
    "import data_preprocessing\n",
    "import importlib\n",
    "importlib.reload(data_preprocessing)\n",
    "import cross_validation\n",
    "import TEST\n",
    "importlib.reload(TEST)\n",
    "importlib.reload(cross_validation)\n",
    "\n"
   ]
  },
  {
   "cell_type": "code",
   "execution_count": 3,
   "id": "f0e42811",
   "metadata": {},
   "outputs": [],
   "source": [
    "np.random.seed(42)"
   ]
  },
  {
   "cell_type": "code",
   "execution_count": 4,
   "id": "c76a2d6a",
   "metadata": {},
   "outputs": [],
   "source": [
    "#Load Data\n",
    "x_train_raw, x_test_raw,y_train_raw, train_ids, test_ids = load_csv_data('dataset')"
   ]
  },
  {
   "cell_type": "code",
   "execution_count": 1,
   "id": "9001d786",
   "metadata": {},
   "outputs": [
    {
     "ename": "NameError",
     "evalue": "name 'x_train_raw' is not defined",
     "output_type": "error",
     "traceback": [
      "\u001b[31m---------------------------------------------------------------------------\u001b[39m",
      "\u001b[31mNameError\u001b[39m                                 Traceback (most recent call last)",
      "\u001b[36mCell\u001b[39m\u001b[36m \u001b[39m\u001b[32mIn[1]\u001b[39m\u001b[32m, line 1\u001b[39m\n\u001b[32m----> \u001b[39m\u001b[32m1\u001b[39m \u001b[38;5;28mprint\u001b[39m(x_train_raw.shape)\n\u001b[32m      2\u001b[39m \u001b[38;5;28mprint\u001b[39m(x_test_raw.shape)\n",
      "\u001b[31mNameError\u001b[39m: name 'x_train_raw' is not defined"
     ]
    }
   ],
   "source": [
    "print(x_train_raw.shape)\n",
    "print(x_test_raw.shape)\n"
   ]
  },
  {
   "cell_type": "code",
   "execution_count": 43,
   "id": "88380452",
   "metadata": {},
   "outputs": [],
   "source": [
    "#Reformat y_train to have 0's instead of -1's\n",
    "y_train_original = y_train_raw.copy()\n",
    "y_train_raw[y_train_raw == -1] = 0"
   ]
  },
  {
   "cell_type": "code",
   "execution_count": 44,
   "id": "7f793521",
   "metadata": {},
   "outputs": [
    {
     "data": {
      "text/plain": [
       "(109379, 321)"
      ]
     },
     "execution_count": 44,
     "metadata": {},
     "output_type": "execute_result"
    }
   ],
   "source": [
    "#replace NaN by a float to treat NaN as a categorical feature\n",
    "x_test_raw = np.nan_to_num(x_test_raw, nan = -10.0)\n",
    "x_test_raw.shape"
   ]
  },
  {
   "cell_type": "markdown",
   "id": "75961310",
   "metadata": {},
   "source": [
    "### One Hot Encode"
   ]
  },
  {
   "cell_type": "code",
   "execution_count": 7,
   "id": "d1db0f6b",
   "metadata": {},
   "outputs": [],
   "source": [
    "data_annoted = data_preprocessing.read_annotated_csv('dataset/data_anotated.csv')"
   ]
  },
  {
   "cell_type": "code",
   "execution_count": 73,
   "id": "cc22ef36",
   "metadata": {},
   "outputs": [
    {
     "name": "stderr",
     "output_type": "stream",
     "text": [
      "/Users/christophersoriano/Library/Mobile Documents/com~apple~CloudDocs/Mac/Epfl/Master/MA3/Machine Learning/ML_project1/project1/data_preprocessing.py:134: RuntimeWarning: invalid value encountered in divide\n",
      "  data = data / data.max(axis=0)\n"
     ]
    }
   ],
   "source": [
    "x_train, y_train, x_test = data_preprocessing.preprocess_data2(x_train_raw[:50000,:], y_train_raw[:50000], x_test_raw[:50000,:], data_annoted)\n"
   ]
  },
  {
   "cell_type": "code",
   "execution_count": 74,
   "id": "8852ad8e",
   "metadata": {},
   "outputs": [
    {
     "data": {
      "text/plain": [
       "array([[1., 0., 0., ..., 0., 0., 0.],\n",
       "       [1., 0., 1., ..., 0., 0., 0.],\n",
       "       [1., 0., 0., ..., 0., 0., 0.],\n",
       "       ...,\n",
       "       [1., 0., 0., ..., 0., 0., 0.],\n",
       "       [1., 0., 0., ..., 0., 0., 0.],\n",
       "       [1., 0., 0., ..., 0., 0., 0.]])"
      ]
     },
     "execution_count": 74,
     "metadata": {},
     "output_type": "execute_result"
    }
   ],
   "source": [
    "x_test"
   ]
  },
  {
   "cell_type": "code",
   "execution_count": null,
   "id": "03843053",
   "metadata": {},
   "outputs": [],
   "source": []
  },
  {
   "cell_type": "code",
   "execution_count": 47,
   "id": "dbaed223",
   "metadata": {},
   "outputs": [
    {
     "data": {
      "text/plain": [
       "'x_train_filtered = data_preprocessing.remove_useless(x_train_raw, data_annoted)\\nx_test_filtered = data_preprocessing.remove_useless(x_test_raw, data_annoted)'"
      ]
     },
     "execution_count": 47,
     "metadata": {},
     "output_type": "execute_result"
    }
   ],
   "source": [
    "\"\"\"x_train_filtered = data_preprocessing.remove_useless(x_train_raw, data_annoted)\n",
    "x_test_filtered = data_preprocessing.remove_useless(x_test_raw, data_annoted)\"\"\""
   ]
  },
  {
   "cell_type": "code",
   "execution_count": 48,
   "id": "cf84a8bb",
   "metadata": {},
   "outputs": [
    {
     "data": {
      "text/plain": [
       "'data_train = data_preprocessing.clean_data(x_train_filtered[:100000,:], data_annoted)\\ndata_test = data_preprocessing.clean_data(x_test_filtered[:100000,:], data_annoted)'"
      ]
     },
     "execution_count": 48,
     "metadata": {},
     "output_type": "execute_result"
    }
   ],
   "source": [
    "\"\"\"data_train = data_preprocessing.clean_data(x_train_filtered[:100000,:], data_annoted)\n",
    "data_test = data_preprocessing.clean_data(x_test_filtered[:100000,:], data_annoted)\"\"\""
   ]
  },
  {
   "cell_type": "code",
   "execution_count": 75,
   "id": "14361aca",
   "metadata": {},
   "outputs": [],
   "source": [
    "np.savetxt('x_train_preprocessed.csv', x_train, delimiter=',')\n",
    "np.savetxt('y_train_preprocessed.csv', y_train, delimiter=',')\n",
    "np.savetxt('x_test_preprocessed.csv', x_test, delimiter=',')"
   ]
  },
  {
   "cell_type": "code",
   "execution_count": 76,
   "id": "ec040d6c",
   "metadata": {},
   "outputs": [],
   "source": [
    "x_train = np.loadtxt('x_train_preprocessed.csv', delimiter=',')\n",
    "x_test = np.loadtxt('x_test_preprocessed.csv', delimiter=',')\n",
    "y_train = np.loadtxt('y_train_preprocessed.csv', delimiter=',')"
   ]
  },
  {
   "cell_type": "code",
   "execution_count": null,
   "id": "cfff5930",
   "metadata": {},
   "outputs": [
    {
     "name": "stderr",
     "output_type": "stream",
     "text": [
      "/Users/christophersoriano/Library/Mobile Documents/com~apple~CloudDocs/Mac/Epfl/Master/MA3/Machine Learning/ML_project1/project1/implemented_functions.py:140: FutureWarning: `rcond` parameter will change to the default of machine precision times ``max(M, N)`` where M and N are the input matrix dimensions.\n",
      "To use the future default and silence this warning we advise to pass `rcond=None`, to keep using the old, explicitly pass `rcond=-1`.\n",
      "  w = np.linalg.lstsq(tx,y)[0]\n"
     ]
    },
    {
     "name": "stdout",
     "output_type": "stream",
     "text": [
      "Least Squares: Loss = 0.07250842162719422\n",
      "Mean Squared Error SGD (gamma=0.01): Loss = [687.474503065241, 224.87298065310233, 51.09998383944982, 75.51102121097257, 76.57240565137145, 34.35787434476492, 28.004505839975298, 27.319480632881668, 28.644884751802365, 36.819451711367336, 28.584977617779952, 54.45023228775416, 53.46253633298848, 42.607207352745775, 31.084146737880335, 27.450013222063458, 34.53096182189085, 28.148066155293396, 30.721367700023468, 25.886012562409878, 26.725426053219074, 25.304105235427677, 26.090743026306654, 48.69306824429197, 20.278735774094088, 20.298550193802807, 20.97998668234299, 21.893182934592325, 26.76774277407371, 20.181383900542098, 20.2955556499679, 19.504398263862225, 27.845582997138642, 18.10977878155092, 18.37853613054735, 21.291927688522875, 22.007624633806426, 18.61795464701691, 20.848223899290744, 20.512852774116705, 18.356017057729343, 17.436216151668315, 17.291270557743683, 20.96355489231087, 18.4025556328858, 17.347879454234445, 21.361470982330097, 20.067659657430177, 24.641349767566844, 17.79176712515151, 19.634567012180124, 31.360443540618554, 20.09624806328245, 16.003421309082654, 16.5733674635877, 17.823433929296407, 16.59067831488955, 14.972355347313826, 14.936448780624039, 18.258113629039936, 31.121954504072722, 13.925987889657014, 14.648616477522383, 13.831739217029956, 14.58747588838061, 13.746259770263649, 20.128899578049438, 17.84191271743214, 18.581469579475844, 13.334536299120765, 13.242320549671827, 22.65757666657626, 18.20474885266216, 12.305091315115106, 12.244668843117537, 12.790577983094009, 18.2619789365508, 16.74575029305015, 11.818224235914588, 12.170744419287873, 16.061026081257882, 17.26022330867338, 13.76623383927895, 16.507306907368193, 15.113228976326205, 14.016379446804857, 18.133220130354186, 29.9609780646611, 20.772744554725875, 18.23686100482508, 10.990553067225271, 11.503806472231041, 16.923425014221596, 18.332999725454336, 13.253795477269335, 13.927481899415351, 10.554098496515115, 10.512635932306868, 10.808425813884257, 11.331868459346579, 10.559701767869166, 17.98468873415995, 38.207407757652945, 10.120288461534708, 8.946760136216223, 10.226271637119448, 11.019366377278303, 10.946243682071183, 12.197928265167317, 9.281659940435384, 9.856044496360731, 17.11409130454983, 9.70084127890849, 8.415530874600035, 8.631780594835448, 8.965830853949734, 9.915453821220783, 11.832894946211944, 8.665172787498202, 8.288125630955903, 8.32438150512251, 8.278667907379123, 9.536638500597327, 8.714676169686774, 9.21135481731144, 8.324487878747245, 10.593370540671124, 8.283324448199268, 9.424585414489918, 7.720847391503837, 8.103407310259714, 7.792175471650072, 7.740324628769277, 12.294425010230723, 8.8987818283197, 8.007039399870125, 8.698430401861222, 7.61662224449105, 7.943467646293745, 7.1521861257758905, 7.324785808262243, 8.52815858567006, 7.250109186128789, 7.359012499878553, 7.879982447051207, 7.331111298668416, 9.433721667442711, 7.3183628956003535, 6.922396127779486, 6.913940517663489, 10.046957719473417, 6.849755670883107, 7.965462457518664, 6.7836366520095535, 6.739060732913687, 7.925142473354795, 6.740461093639653, 7.144902422011146, 9.296046774746184, 6.535250763871082, 9.935844594907243, 9.521407077962042, 19.928538815468414, 13.285798232109014, 11.744489313534272, 6.527722001311592, 6.850835329420723, 6.586909965076386, 6.411830995832346, 8.902236020438085, 7.64129543888955, 7.038008892902226, 7.230641168736009, 9.093922584832466, 9.989074931004257, 14.17003265709549, 6.063261967762635, 7.693667921720529, 9.930742655062955, 5.970056932246663, 6.09435429131455, 6.373633310583026, 5.973381625167037, 5.883662292117112, 7.221917460822326, 5.848709983373626, 5.818108012521756, 6.519100275962357, 11.191093269308547, 11.473737985399625, 12.941993444068249, 5.818154332552198, 5.9162845254298295, 5.835132940518413, 6.4055260582166325, 10.4872512524776, 12.078446024620892, 9.20524428861545, 7.682192801199381, 8.399175408664606]\n",
      "Mean Squared Error SGD (gamma=0.1): Loss = [7917.676786240109, 46959.30452962157, 459007.0649606015, 11626188.098052204, 96168979.02666444, 185620057.57105646, 2110526356.2443118, 46410230954.539185, 205282066237.65616, 1210925780062.05, 35530998879879.47, 220539898084411.47, 190806651156130.28, 444722160828848.5, 372594644824552.56, 4016425823531251.0, 3.0164614980875372e+16, 2.050672065202269e+17, 1.1421264223021233e+18, 9.518145682166936e+18, 2.2916698517276715e+20, 5.513822150122168e+20, 9.991137965643485e+21, 2.919348718418368e+22, 1.962873021128792e+23, 4.476385600142445e+24, 4.838501758138486e+25, 1.2869744212331542e+27, 1.5208820249299723e+28, 3.7114858898390515e+29, 6.64280519228639e+29, 3.7413142211711344e+30, 4.553219971935309e+31, 2.883048528553014e+32, 1.310794972260869e+33, 4.87644463263623e+33, 1.602285328712522e+34, 3.013294148174042e+35, 4.38373730852314e+36, 3.486618716944738e+37, 9.602992856291339e+38, 3.7418026857175444e+39, 3.900062383977971e+40, 4.212706969091805e+41, 8.774518798782522e+42, 5.267035322534352e+43, 9.484372811806578e+44, 1.3298176512895294e+46, 3.580177998526224e+47, 4.0205323961485477e+48, 4.766898248439781e+49, 4.093154073546872e+50, 6.634933718454185e+51, 1.2032317103945575e+53, 2.9745835200115052e+54, 3.895200457687167e+55, 3.49557372123438e+56, 4.687943010269417e+57, 4.7141659892533283e+58, 3.071280736175176e+59, 2.1971479118881003e+60, 3.9117708986592004e+61, 5.339114744449996e+62, 2.1549749887523533e+63, 3.973268670432984e+64, 7.147412697489648e+65, 9.445820918937965e+66, 1.0295583129820481e+68, 3.937154289214043e+68, 1.1022080634969001e+69, 2.1698967671867822e+70, 2.5704745731335544e+71, 1.989391401565004e+72, 3.650961162374519e+73, 5.10086203141695e+74, 1.1391539589237909e+76, 5.077748653732908e+76, 4.702061494154688e+77, 1.8104453109908745e+78, 5.499956560172234e+78, 7.962851223356197e+79, 1.9971779934702508e+80, 3.0534434066829917e+81, 1.700459671266222e+82, 1.219136029267163e+83, 1.207176426608195e+84, 1.657786653219992e+85, 1.854764512139615e+86, 3.888880840820073e+86, 5.428591899556262e+87, 9.298576219341852e+88, 4.948957915305585e+89, 1.0238132063759306e+91, 1.2796395237590844e+92, 1.6291360167513823e+93, 9.956491682537855e+93, 1.1661937001321989e+95, 1.4229513302355192e+96, 1.965275604023747e+97, 2.424484200296765e+97, 3.567550776528985e+98, 2.0456546710526563e+99, 2.40782594127995e+100, 3.3385503386747627e+101, 1.0745742186707539e+102, 5.677279991342464e+102, 5.545179502837063e+103, 1.6406750448708268e+105, 1.3447421925722277e+106, 1.5114199302743965e+107, 1.4408171607267587e+108, 7.522611541957423e+108, 6.618557364358567e+109, 3.3755148803742126e+110, 5.422753326541539e+111, 2.592393388181446e+112, 3.3691624245209605e+113, 5.39167849877753e+114, 8.745919588972918e+115, 1.0558437649568612e+117, 7.963169975985402e+117, 4.861827599731677e+118, 1.961811715015321e+119, 2.830315401435685e+120, 1.4853729691215818e+121, 2.8180827540536547e+122, 3.591543420821814e+123, 4.210143120428974e+124, 4.346486886952341e+125, 6.700104996893258e+126, 6.028692562489771e+126, 1.2028330236593542e+127, 2.777747760599773e+128, 4.221143069880471e+129, 6.503126610759104e+129, 2.821841912004401e+130, 1.927737435230141e+131, 5.5177060595665985e+131, 1.1191092174782508e+133, 5.327169665206252e+133, 2.011942572681061e+134, 2.5993623321395886e+134, 7.605694426218081e+135, 7.514895609699321e+136, 4.621163415347299e+137, 7.392354115141653e+138, 1.2520096005469153e+139, 6.06435147940343e+139, 1.4498307255688672e+141, 8.91359880982447e+141, 1.5175309467683406e+143, 7.462113426087395e+143, 9.625766175792443e+144, 6.419521786161706e+145, 1.422775712398381e+146, 2.621771995477027e+147, 6.092458091025866e+146, 1.5926786685153809e+147, 1.603708544286571e+147, 4.862249250493788e+148, 3.551834280248956e+149, 4.569566597926122e+150, 5.480629547880083e+151, 1.29415502732182e+152, 9.388262144366608e+152, 2.5567522053428237e+152, 4.009389545852132e+153, 2.2335084017515794e+154, 1.3864661000975934e+155, 1.0199260858555722e+156, 1.536066629778209e+157, 1.7871449289530618e+158, 1.5926302150411941e+159, 1.88193123056002e+159, 6.586619866441277e+160, 7.700720101421236e+161, 1.2205042224311927e+163, 7.079196772679316e+163, 5.761280712482469e+164, 2.0592640948663836e+165, 3.218444576180961e+166, 2.512235852807354e+167, 2.9836343287499547e+168, 3.975918003723396e+169, 2.6025552949816874e+170, 2.0725676576263537e+171, 8.980366120469789e+171, 2.568122605885258e+173, 1.4063660697727558e+174, 9.355398204890692e+174, 2.8109852458816e+176, 9.737371241424919e+176, 1.4566391677622131e+178, 8.296904298138428e+178, 2.956955638358037e+180, 3.746656110750203e+181, 5.35100376943274e+182, 5.201986785415442e+183, 4.954736277007456e+184, 3.593838722529756e+185]\n"
     ]
    },
    {
     "name": "stderr",
     "output_type": "stream",
     "text": [
      "/Users/christophersoriano/Library/Mobile Documents/com~apple~CloudDocs/Mac/Epfl/Master/MA3/Machine Learning/ML_project1/project1/implemented_functions.py:53: RuntimeWarning: overflow encountered in matmul\n",
      "  MSE_loss = 1 / (2*N) * (e.T @ e)\n"
     ]
    },
    {
     "name": "stdout",
     "output_type": "stream",
     "text": [
      "Mean Squared Error SGD (gamma=0.5): Loss = [1270700.6906089094, 279092462.7689524, 155530766740.87595, 151391601155299.1, 7.276751944791406e+16, 4.396765432652231e+19, 2.004136819913084e+22, 1.1098928662979652e+25, 1.9488640334331615e+27, 3.500192061572821e+29, 8.830123624988986e+31, 2.1048593495269464e+34, 3.878749468337094e+36, 1.5916680834760115e+39, 8.01142718046467e+41, 3.666116800694119e+44, 1.1230433761780402e+47, 4.5112189461855983e+49, 2.858009958215713e+52, 1.1399018176195642e+55, 4.487726550292878e+57, 2.8013489021952072e+60, 6.467293134894199e+62, 3.662647494756325e+65, 1.7908452296771525e+68, 5.758214600451294e+70, 3.6638360696041225e+73, 1.637801294074021e+76, 4.345322218202996e+78, 1.1593308575445217e+81, 5.454600202808853e+83, 2.0983893101548602e+86, 1.2378940361147226e+89, 5.122557762647681e+91, 2.740240307078285e+94, 2.0964355523376766e+97, 6.644272894756964e+99, 3.1819992459028734e+102, 3.6835395937138015e+104, 1.2763650602626116e+107, 7.006383772614187e+109, 2.0481612175937406e+112, 1.3396528694699166e+115, 6.769193762658057e+117, 1.148398213433549e+120, 4.0005561090361996e+122, 8.65385227210847e+124, 5.467735846537989e+127, 2.014202604655018e+130, 2.1085373423166886e+132, 1.1965693223823649e+135, 1.7634944475515006e+137, 6.404989687949167e+139, 4.446383885295543e+142, 3.085523405348344e+145, 1.1123336503509507e+148, 4.9817763837335736e+150, 1.731566829798271e+153, 1.1238886567271089e+156, 1.9043687169780196e+158, 7.134490125700184e+160, 4.555576866188287e+163, 2.115341462107687e+166, 1.2200107832692141e+169, 5.503881625726823e+171, 1.4349020489469502e+174, 8.293603722630213e+176, 8.778630796530705e+179, 4.6172199324385745e+182, 3.9825482872111706e+185, 1.698963115465486e+188, 5.414880971105782e+190, 4.315606593260654e+193, 1.858807735479941e+196, 5.225015538575092e+198, 1.947241816964286e+201, 5.8355166179680195e+203, 2.8700686870047662e+206, 4.977615358027442e+208, 2.0327625302998175e+211, 7.410349837658943e+213, 3.481707989093183e+216, 1.5677882593637202e+219, 1.4067348410241442e+222, 9.341014133989178e+224, 7.942776478229096e+226, 3.6621254722359783e+229, 1.7613801477244992e+232, 4.755905576656817e+234, 4.363740336222211e+237, 6.318509376940916e+239, 5.01047325475228e+242, 1.7405432037961312e+245, 9.12347235749089e+247, 2.7413410408119493e+250, 6.026058990529408e+252, 3.823659484683919e+255, 1.9581662893973186e+258, 1.325423158734015e+261, 3.0944259169017874e+263, 2.2397485386904083e+266, 2.972472512604732e+268, 1.1791841326466228e+271, 4.812780586139105e+273, 4.54399417302833e+275, 7.910661238230555e+277, 3.407578262396351e+280, 2.495913547629487e+283, 7.745934998242585e+285, 3.2507954028126785e+288, 2.841443255530941e+290, 3.813662853196503e+292, 1.2421264415804178e+295, 5.700665762898453e+297, 3.0222363342094055e+300, 1.0205396624386512e+303, inf, inf, inf, inf, inf, inf, inf, inf, inf, inf, inf, inf, inf, inf, inf, inf, inf, inf, inf, inf, inf, inf, inf, inf, inf, inf, inf, inf, inf, inf, inf, inf, inf, inf, inf, inf, inf, inf, inf, inf, inf, inf, inf, inf, inf, inf, inf, inf, inf, inf, inf, inf, inf, inf, inf, inf, inf, inf, inf, inf, inf, inf, inf, inf, inf, inf, inf, inf, inf, inf, inf, inf, inf, inf, inf, inf, inf, inf, inf, inf, inf, inf, inf, inf]\n",
      "Mean Squared Error SGD (gamma=1): Loss = [5256438.215838699, 8755389485.775497, 24508921069391.094, 5.176698321466555e+16, 1.262378751561279e+20, 4.4163790551380514e+23, 1.255273437675823e+27, 1.1251547919269243e+30, 3.055443684768096e+33, 6.517249707494294e+36, 1.5775922336036566e+40, 1.7673372284480138e+43, 3.760530464678504e+46, 9.7000341307216e+49, 2.519166547868037e+53, 6.945205037461231e+56, 7.154797878642947e+59, 1.2032780808979144e+63, 8.619834398403724e+65, 1.3502258015352843e+69, 2.0196759069157086e+72, 3.5607029434306558e+75, 9.367614892285467e+78, 2.9455721687789794e+82, 3.988976050233448e+85, 7.871880744639512e+88, 1.1978663410611166e+92, 1.904521819073237e+95, 1.646526257863708e+98, 3.996827522737831e+101, 2.840910596982183e+104, 5.794206511792085e+107, 1.3095926797352032e+111, 1.3210263989878557e+114, 2.654742604368742e+117, 1.9652888471906143e+120, 2.6715848591030904e+123, 6.885674569899608e+126, 1.5489027545271588e+129, 1.3465869371574419e+132, 3.2002991488231335e+134, 5.48033459763625e+137, 1.4859720272088054e+141, 9.577815577906472e+143, 9.6539980880423e+146, 2.0535274422126128e+150, 3.997983109082012e+153, 8.703029861048765e+156, 1.2421929237467549e+160, 3.6905229885855696e+163, 9.936665672373764e+166, 1.816111135500856e+170, 2.845397314718761e+173, 5.581250594812019e+176, 1.0623764567349889e+180, 1.9861298506797173e+183, 3.839077443482727e+186, 8.97632252979072e+189, 1.3218330751273858e+193, 4.140702082370456e+196, 6.1700521963341425e+199, 6.811242605778965e+202, 4.063439018475931e+205, 5.981966813104692e+208, 1.4899185657646145e+212, 4.323313698379231e+215, 8.624289212440572e+218, 1.892789277633275e+222, 2.0357692917439202e+225, 2.6599025162375927e+228, 8.618604477280187e+231, 1.1428420670365415e+235, 1.804368750895628e+238, 1.9790088751731405e+241, 4.2178115361004505e+244, 4.3412394377095166e+247, 6.363439708865583e+250, 1.2612797310477658e+254, 1.5986219618944218e+257, 3.3338364955396877e+260, 6.204737063924938e+263, 7.499250142924403e+266, 1.16790138723338e+270, 1.1183001688976407e+273, 1.6617959997127833e+276, 9.356471102840627e+278, 1.4523640665482052e+282, 2.3414021794091768e+285, 2.383018315437432e+288, 3.7996818817430105e+291, 1.3237465667143573e+294, 9.031818690619645e+296, 8.77641072243611e+299, 6.704527707453966e+302, inf, inf, inf, inf, inf, inf, inf, inf, inf, inf, inf, inf, inf, inf, inf, inf, inf, inf, inf, inf, inf, inf, inf, inf, inf, inf, inf, inf, inf, inf, inf, inf, inf, inf, inf, inf, inf, inf, inf, inf, inf, inf, inf, inf, inf, inf, inf, inf, inf, inf, inf, inf, inf, inf, inf, inf, inf, inf, inf, inf, inf, inf, inf, inf, inf, inf, inf, inf, inf, inf, inf, inf, inf, inf, inf, inf, inf, inf, inf, inf, inf, inf, inf, inf, inf, inf, inf, inf, inf, inf, inf, inf, inf, inf, inf, inf, inf, inf, nan, nan, nan, nan, nan, nan, nan, nan]\n"
     ]
    },
    {
     "name": "stderr",
     "output_type": "stream",
     "text": [
      "/Users/christophersoriano/Library/Mobile Documents/com~apple~CloudDocs/Mac/Epfl/Master/MA3/Machine Learning/ML_project1/project1/implemented_functions.py:52: RuntimeWarning: overflow encountered in matmul\n",
      "  e = y - tx @ w\n",
      "/Users/christophersoriano/Library/Mobile Documents/com~apple~CloudDocs/Mac/Epfl/Master/MA3/Machine Learning/ML_project1/project1/implemented_functions.py:74: RuntimeWarning: overflow encountered in matmul\n",
      "  e = y- tx@w\n",
      "/Users/christophersoriano/Library/Mobile Documents/com~apple~CloudDocs/Mac/Epfl/Master/MA3/Machine Learning/ML_project1/project1/implemented_functions.py:75: RuntimeWarning: invalid value encountered in matmul\n",
      "  return -(tx.T@e)/n\n",
      "/Users/christophersoriano/Library/Mobile Documents/com~apple~CloudDocs/Mac/Epfl/Master/MA3/Machine Learning/ML_project1/project1/implemented_functions.py:52: RuntimeWarning: invalid value encountered in matmul\n",
      "  e = y - tx @ w\n",
      "/Users/christophersoriano/Library/Mobile Documents/com~apple~CloudDocs/Mac/Epfl/Master/MA3/Machine Learning/ML_project1/project1/implemented_functions.py:74: RuntimeWarning: invalid value encountered in matmul\n",
      "  e = y- tx@w\n"
     ]
    },
    {
     "name": "stdout",
     "output_type": "stream",
     "text": [
      "Regularized Lasso Logistic Regression (gamma=0.01, lambda=0.1): Loss = 48.80091900535621\n",
      "Regularized Lasso Logistic Regression (gamma=0.01, lambda=0.01): Loss = 20.25490559803804\n",
      "Regularized Lasso Logistic Regression (gamma=0.1, lambda=0.1): Loss = 0.9287527521035257\n",
      "Regularized Lasso Logistic Regression (gamma=0.1, lambda=0.01): Loss = 4.346407334254343\n",
      "Regularized Lasso Logistic Regression (gamma=0.5, lambda=0.1): Loss = 5.1831435696564405\n",
      "Regularized Lasso Logistic Regression (gamma=0.5, lambda=0.01): Loss = 1.2612558773420381\n",
      "Ridge Regression (alpha=0.001): Loss = 0.07434071058951153\n"
     ]
    },
    {
     "name": "stderr",
     "output_type": "stream",
     "text": [
      "/Users/christophersoriano/Library/Mobile Documents/com~apple~CloudDocs/Mac/Epfl/Master/MA3/Machine Learning/ML_project1/project1/implemented_functions.py:153: RuntimeWarning: invalid value encountered in matmul\n",
      "  A = tx.T @ tx + (N * lambda_) * np.eye(D)\n"
     ]
    },
    {
     "name": "stdout",
     "output_type": "stream",
     "text": [
      "Ridge Regression (alpha=0.01): Loss = 0.07687666771243132\n",
      "Ridge Regression (alpha=0.1): Loss = 0.08179840389956802\n",
      "Ridge Regression (alpha=1): Loss = 0.09745806649800418\n",
      "Ridge Regression (alpha=10): Loss = 0.14062682022968842\n",
      "Logistic Regression: Loss = 15.851271978435785\n",
      "Logistic Regression: Loss = 1.1988288819514517\n",
      "Logistic Regression: Loss = 0.5986628835079466\n",
      "Logistic Regression: Loss = 1.541105683237969\n",
      "Regularized Logistic Regression (alpha=0.001, gamma=0.01): Loss = 16.05150726205191\n",
      "Regularized Logistic Regression (alpha=0.01, gamma=0.01): Loss = 17.754772171730995\n",
      "Regularized Logistic Regression (alpha=0.1, gamma=0.01): Loss = 27.32840376358681\n",
      "Regularized Logistic Regression (alpha=1, gamma=0.01): Loss = 4.50476953636982\n",
      "Regularized Logistic Regression (alpha=0.001, gamma=0.1): Loss = 1.3666039368893967\n",
      "Regularized Logistic Regression (alpha=0.01, gamma=0.1): Loss = 2.315264121337969\n",
      "Regularized Logistic Regression (alpha=0.1, gamma=0.1): Loss = 0.8639985871139272\n",
      "Regularized Logistic Regression (alpha=1, gamma=0.1): Loss = 0.6233131369847792\n",
      "Regularized Logistic Regression (alpha=0.001, gamma=0.5): Loss = 0.7024435106832518\n",
      "Regularized Logistic Regression (alpha=0.01, gamma=0.5): Loss = 1.0943428779506772\n",
      "Regularized Logistic Regression (alpha=0.1, gamma=0.5): Loss = 1.4541444666137915\n",
      "Regularized Logistic Regression (alpha=1, gamma=0.5): Loss = 3.9066619222087873\n"
     ]
    }
   ],
   "source": [
    "import implemented_functions\n",
    "import importlib\n",
    "importlib.reload(implemented_functions)\n",
    "\n",
    "initial_w = np.zeros(x_train.shape[1])\n",
    "max_iters = 200\n",
    "\n",
    "x_test = x_train[7000:,:]\n",
    "y_test = y_train[7000:]\n",
    "x_train = x_train[:7000,:]\n",
    "y_train = y_train[:7000]\n",
    "\n",
    "\n",
    "w_least_squares, loss_ls = implemented_functions.least_squares(y_train, x_train)\n",
    "print(f\"Least Squares: Loss = {loss_ls}\")\n",
    "\n",
    "best_mse_coef = 0\n",
    "best_mse_loss = np.inf\n",
    "best_mse_weights = None\n",
    "for gamma in [0.01, 0.1, 0.5, 1]:\n",
    "    w_sgd, loss_sgd = implemented_functions.mean_squared_error_sgd(y_train,  x_train, initial_w, max_iters, gamma)\n",
    "    if loss_sgd[-1] < best_mse_loss:\n",
    "        best_mse_loss = loss_sgd[-1]\n",
    "        best_mse_coef = gamma\n",
    "        best_mse_weights = w_sgd\n",
    "    print(f\"Mean Squared Error SGD (gamma={gamma}): Loss = {loss_sgd}\")\n",
    "\n",
    "best_log_lasso_coef = 0\n",
    "best_log_lasso_loss = np.inf\n",
    "best_log_lasso_weights = None\n",
    "for gamma in [0.01, 0.1, 0.5]:\n",
    "    for lambda_ in [0.1, 0.01]:\n",
    "        w_log_lasso, loss_log_lasso = implemented_functions.reg_logistic_lasso_subgradient(y_train, x_train, lambda_, initial_w, max_iters, gamma)\n",
    "        if loss_log_lasso < best_log_lasso_loss:\n",
    "            best_log_lasso_loss = loss_log_lasso\n",
    "            best_log_lasso_weights = w_log_lasso\n",
    "        print(f\"Regularized Lasso Logistic Regression (gamma={gamma}, lambda={lambda_}): Loss = {loss_log_lasso}\")\n",
    "        \n",
    "best_ridge_coef = 0\n",
    "best_ridge_loss = np.inf\n",
    "best_ridge_weights = None\n",
    "for ridge_coef in [0.001, 0.01, 0.1, 1, 10]:\n",
    "    w_ridge, loss_ridge = implemented_functions.ridge_regression(y_train, x_train, ridge_coef)\n",
    "    if loss_ridge < best_ridge_loss:\n",
    "        best_ridge_loss = loss_ridge\n",
    "        best_ridge_coef = ridge_coef\n",
    "        best_ridge_weights = w_ridge\n",
    "    print(f\"Ridge Regression (alpha={ridge_coef}): Loss = {loss_ridge}\")\n",
    "\n",
    "best_log_gamma = 0\n",
    "best_log_loss = np.inf\n",
    "best_log_weights = None\n",
    "for gamma in [0.01, 0.1, 0.5, 1]:\n",
    "    w_logistic, loss_logistic = implemented_functions.logistic_regression(y_train, x_train, initial_w, max_iters, gamma)\n",
    "    if loss_logistic < best_log_loss:\n",
    "        best_log_loss = loss_logistic\n",
    "        best_log_gamma = gamma\n",
    "        best_log_weights = w_logistic\n",
    "    print(f\"Logistic Regression: Loss = {loss_logistic}\")\n",
    "\n",
    "best_log_reg_coef = 0\n",
    "best_log_reg_loss = np.inf\n",
    "best_log_reg_weights = None\n",
    "for gamma in [0.01, 0.1, 0.5]:\n",
    "    for reg_coef in [0.001, 0.01, 0.1, 1]:\n",
    "        w_reg_logistic, loss_reg_logistic = implemented_functions.reg_logistic_regression(y_train, x_train, reg_coef, initial_w, max_iters, gamma)\n",
    "        if loss_reg_logistic < best_log_reg_loss:\n",
    "            best_log_reg_loss = loss_reg_logistic\n",
    "            best_log_reg_coef = reg_coef\n",
    "            best_log_reg_weights = w_reg_logistic\n",
    "        print(f\"Regularized Logistic Regression (alpha={reg_coef}, gamma={gamma}): Loss = {loss_reg_logistic}\")\n",
    "\n"
   ]
  },
  {
   "cell_type": "code",
   "execution_count": 78,
   "id": "e5dd05f7",
   "metadata": {},
   "outputs": [
    {
     "name": "stdout",
     "output_type": "stream",
     "text": [
      "Accuracy of SGD is 0.0%\n",
      "F1 score SGD is nan\n",
      "Accuracy of Least Squares is 76.47768395657418%\n",
      "F1 score Least Squares is 0.7616136919315404\n",
      "Accuracy of Ridge is 77.3220747889023%\n",
      "F1 score Ridge is 0.7761904761904762\n",
      "Accuracy of Logistic is 73.8238841978287%\n",
      "F1 score Logistic is 0.7027397260273973\n",
      "Accuracy of Regularized Logistic is 73.8238841978287%\n",
      "F1 score Regularized Logistic is 0.7027397260273973\n"
     ]
    },
    {
     "name": "stderr",
     "output_type": "stream",
     "text": [
      "/Users/christophersoriano/Library/Mobile Documents/com~apple~CloudDocs/Mac/Epfl/Master/MA3/Machine Learning/ML_project1/project1/implemented_functions.py:289: RuntimeWarning: invalid value encountered in scalar divide\n"
     ]
    },
    {
     "data": {
      "text/plain": [
       "array([0., 0., 0., ..., 0., 0., 1.])"
      ]
     },
     "execution_count": 78,
     "metadata": {},
     "output_type": "execute_result"
    }
   ],
   "source": [
    "def compute_accuracy(y_test, x_test, w, method):\n",
    "    y_pred = x_test@w\n",
    "    y_pred[y_pred <= 0.5] = 0\n",
    "    y_pred[y_pred > 0.5] = 1\n",
    "    computed_accuracy = np.sum(y_pred == y_test)/len(y_test)\n",
    "    print(f\"Accuracy of {method} is {computed_accuracy*100}%\")\n",
    "    return computed_accuracy, y_pred\n",
    "\n",
    "def test_methods(x_test, y_test, w_sgd, w_least_squares, best_ridge_weights, best_log_weights, best_log_reg_weights):\n",
    "    accuracy, y_pred = compute_accuracy(y_test, x_test, w_sgd, \"SGD\")\n",
    "    print(f\"F1 score SGD is {implemented_functions.compute_f1_score(y_test, y_pred)}\")\n",
    "    accuracy, y_pred = compute_accuracy(y_test, x_test, w_least_squares, \"Least Squares\")\n",
    "    print(f\"F1 score Least Squares is {implemented_functions.compute_f1_score(y_test, y_pred)}\")\n",
    "    accuracy, y_pred = compute_accuracy(y_test, x_test, best_ridge_weights, \"Ridge\")\n",
    "    print(f\"F1 score Ridge is {implemented_functions.compute_f1_score(y_test, y_pred)}\")\n",
    "    accuracy, y_pred = compute_accuracy(y_test, x_test, best_log_weights, \"Logistic\")\n",
    "    print(f\"F1 score Logistic is {implemented_functions.compute_f1_score(y_test, y_pred)}\")\n",
    "    accuracy, y_pred = compute_accuracy(y_test, x_test, best_log_reg_weights, \"Regularized Logistic\")\n",
    "    print(f\"F1 score Regularized Logistic is {implemented_functions.compute_f1_score(y_test, y_pred)}\")\n",
    "    return y_pred\n",
    "\n",
    "test_methods(x_test, y_test, w_sgd, w_least_squares, best_ridge_weights, best_log_weights, best_log_reg_weights)\n"
   ]
  },
  {
   "cell_type": "code",
   "execution_count": 44,
   "id": "89041a9b",
   "metadata": {},
   "outputs": [
    {
     "ename": "KeyboardInterrupt",
     "evalue": "",
     "output_type": "error",
     "traceback": [
      "\u001b[31m---------------------------------------------------------------------------\u001b[39m",
      "\u001b[31mKeyboardInterrupt\u001b[39m                         Traceback (most recent call last)",
      "\u001b[36mCell\u001b[39m\u001b[36m \u001b[39m\u001b[32mIn[44]\u001b[39m\u001b[32m, line 4\u001b[39m\n\u001b[32m      1\u001b[39m X_max = data_preprocessing.build_poly(x_train, \u001b[32m3\u001b[39m)\n\u001b[32m      2\u001b[39m initial_w = np.zeros(X_max.shape[\u001b[32m1\u001b[39m])\n\u001b[32m----> \u001b[39m\u001b[32m4\u001b[39m cross_validation.cross_validation_demo(y=y_train, x=x_train, k_fold=\u001b[32m5\u001b[39m, lambdas=[\u001b[32m0.001\u001b[39m], degree=\u001b[32m3\u001b[39m, initial_w=initial_w, max_iters=\u001b[32m100\u001b[39m, gamma=\u001b[32m0.1\u001b[39m)\n",
      "\u001b[36mFile \u001b[39m\u001b[32m~/Library/Mobile Documents/com~apple~CloudDocs/Mac/Epfl/Master/MA3/Machine Learning/ML_project1/project1/cross_validation.py:87\u001b[39m, in \u001b[36mcross_validation_demo\u001b[39m\u001b[34m(y, x, degree, k_fold, lambdas, initial_w, max_iters, gamma, seed)\u001b[39m\n\u001b[32m     84\u001b[39m sums_te = {m: \u001b[32m0.0\u001b[39m \u001b[38;5;28;01mfor\u001b[39;00m m \u001b[38;5;129;01min\u001b[39;00m methods}\n\u001b[32m     86\u001b[39m \u001b[38;5;28;01mfor\u001b[39;00m k \u001b[38;5;129;01min\u001b[39;00m \u001b[38;5;28mrange\u001b[39m(k_fold):\n\u001b[32m---> \u001b[39m\u001b[32m87\u001b[39m     res = cross_validation(y, x, k_indices, k, lambda_, degree, initial_w, max_iters, gamma)\n\u001b[32m     88\u001b[39m     \u001b[38;5;28;01mfor\u001b[39;00m m \u001b[38;5;129;01min\u001b[39;00m methods:\n\u001b[32m     89\u001b[39m         tr_k, te_k = res[m]\n",
      "\u001b[36mFile \u001b[39m\u001b[32m~/Library/Mobile Documents/com~apple~CloudDocs/Mac/Epfl/Master/MA3/Machine Learning/ML_project1/project1/cross_validation.py:46\u001b[39m, in \u001b[36mcross_validation\u001b[39m\u001b[34m(y, x, k_indices, k, lambda_, degree, initial_w, max_iters, gamma)\u001b[39m\n\u001b[32m     44\u001b[39m w_mse_sgd, _loss_mse_sgd = mean_squared_error_sgd(y_tr_k, x_tr_k_poly, initial_w, max_iters, gamma)\n\u001b[32m     45\u001b[39m w_rdg, _loss_rdg         = ridge_regression(y_tr_k,       x_tr_k_poly, lambda_)\n\u001b[32m---> \u001b[39m\u001b[32m46\u001b[39m w_ls, _loss_ls           = least_squares(y_tr_k,          x_tr_k_poly)\n\u001b[32m     47\u001b[39m w_lr, _loss_lr           = logistic_regression(y_tr_k,    x_tr_k_poly, initial_w, max_iters, gamma)\n\u001b[32m     48\u001b[39m w_reg_lr, _loss_reg_lr   = reg_logistic_regression(y_tr_k,x_tr_k_poly, lambda_, initial_w, max_iters, gamma)\n",
      "\u001b[36mFile \u001b[39m\u001b[32m~/Library/Mobile Documents/com~apple~CloudDocs/Mac/Epfl/Master/MA3/Machine Learning/ML_project1/project1/implemented_functions.py:140\u001b[39m, in \u001b[36mleast_squares\u001b[39m\u001b[34m(y, tx)\u001b[39m\n\u001b[32m    128\u001b[39m \u001b[38;5;28;01mdef\u001b[39;00m\u001b[38;5;250m \u001b[39m\u001b[34mleast_squares\u001b[39m(y,tx) : \n\u001b[32m    129\u001b[39m \u001b[38;5;250m    \u001b[39m\u001b[33;03m\"\"\"\u001b[39;00m\n\u001b[32m    130\u001b[39m \u001b[33;03m    Performs the ordinary least squares regression algorithm and returns the best parameters, along with its associated loss\u001b[39;00m\n\u001b[32m    131\u001b[39m \n\u001b[32m   (...)\u001b[39m\u001b[32m    138\u001b[39m \u001b[33;03m        loss : scalar, mean squared error loss\u001b[39;00m\n\u001b[32m    139\u001b[39m \u001b[33;03m    \"\"\"\u001b[39;00m\n\u001b[32m--> \u001b[39m\u001b[32m140\u001b[39m     w = np.linalg.lstsq(tx,y)[\u001b[32m0\u001b[39m]\n\u001b[32m    141\u001b[39m     loss = compute_loss(y,tx,w)\n\u001b[32m    143\u001b[39m     \u001b[38;5;28;01mreturn\u001b[39;00m w,loss\n",
      "\u001b[36mFile \u001b[39m\u001b[32m~/opt/miniconda3/envs/MainPy/lib/python3.11/site-packages/numpy/linalg/linalg.py:2326\u001b[39m, in \u001b[36mlstsq\u001b[39m\u001b[34m(a, b, rcond)\u001b[39m\n\u001b[32m   2323\u001b[39m \u001b[38;5;28;01mif\u001b[39;00m n_rhs == \u001b[32m0\u001b[39m:\n\u001b[32m   2324\u001b[39m     \u001b[38;5;66;03m# lapack can't handle n_rhs = 0 - so allocate the array one larger in that axis\u001b[39;00m\n\u001b[32m   2325\u001b[39m     b = zeros(b.shape[:-\u001b[32m2\u001b[39m] + (m, n_rhs + \u001b[32m1\u001b[39m), dtype=b.dtype)\n\u001b[32m-> \u001b[39m\u001b[32m2326\u001b[39m x, resids, rank, s = gufunc(a, b, rcond, signature=signature, extobj=extobj)\n\u001b[32m   2327\u001b[39m \u001b[38;5;28;01mif\u001b[39;00m m == \u001b[32m0\u001b[39m:\n\u001b[32m   2328\u001b[39m     x[...] = \u001b[32m0\u001b[39m\n",
      "\u001b[31mKeyboardInterrupt\u001b[39m: "
     ]
    }
   ],
   "source": [
    "\n",
    "X_max = data_preprocessing.build_poly(x_train, 3)\n",
    "initial_w = np.zeros(X_max.shape[1])\n",
    "\n",
    "cross_validation.cross_validation_demo(y=y_train, x=x_train, k_fold=5, lambdas=[0.001], degree=3, initial_w=initial_w, max_iters=100, gamma=0.1)"
   ]
  },
  {
   "cell_type": "code",
   "execution_count": 19,
   "id": "41833652",
   "metadata": {},
   "outputs": [
    {
     "ename": "ValueError",
     "evalue": "matmul: Input operand 1 has a mismatch in its core dimension 0, with gufunc signature (n?,k),(k,m?)->(n?,m?) (size 575 is different from 561)",
     "output_type": "error",
     "traceback": [
      "\u001b[31m---------------------------------------------------------------------------\u001b[39m",
      "\u001b[31mValueError\u001b[39m                                Traceback (most recent call last)",
      "\u001b[36mCell\u001b[39m\u001b[36m \u001b[39m\u001b[32mIn[19]\u001b[39m\u001b[32m, line 4\u001b[39m\n\u001b[32m      2\u001b[39m x_test = np.loadtxt(\u001b[33m'\u001b[39m\u001b[33mx_test_preprocessed.csv\u001b[39m\u001b[33m'\u001b[39m, delimiter=\u001b[33m'\u001b[39m\u001b[33m,\u001b[39m\u001b[33m'\u001b[39m)\n\u001b[32m      3\u001b[39m y_train = np.loadtxt(\u001b[33m'\u001b[39m\u001b[33my_train_preprocessed.csv\u001b[39m\u001b[33m'\u001b[39m, delimiter=\u001b[33m'\u001b[39m\u001b[33m,\u001b[39m\u001b[33m'\u001b[39m)\n\u001b[32m----> \u001b[39m\u001b[32m4\u001b[39m y_pred = x_test\u001b[38;5;129m@best_ridge_weights\u001b[39m\n",
      "\u001b[31mValueError\u001b[39m: matmul: Input operand 1 has a mismatch in its core dimension 0, with gufunc signature (n?,k),(k,m?)->(n?,m?) (size 575 is different from 561)"
     ]
    }
   ],
   "source": [
    "x_train = np.loadtxt('x_train_preprocessed.csv', delimiter=',')\n",
    "x_test = np.loadtxt('x_test_preprocessed.csv', delimiter=',')\n",
    "y_train = np.loadtxt('y_train_preprocessed.csv', delimiter=',')\n",
    "y_pred = x_test@best_ridge_weights\n"
   ]
  },
  {
   "cell_type": "code",
   "execution_count": 16,
   "id": "9d68f670",
   "metadata": {},
   "outputs": [
    {
     "data": {
      "text/plain": [
       "(575,)"
      ]
     },
     "execution_count": 16,
     "metadata": {},
     "output_type": "execute_result"
    }
   ],
   "source": [
    "best_ridge_weights.shape"
   ]
  },
  {
   "cell_type": "code",
   "execution_count": 20,
   "id": "3cbba3fb",
   "metadata": {},
   "outputs": [
    {
     "data": {
      "text/plain": [
       "(8658, 575)"
      ]
     },
     "execution_count": 20,
     "metadata": {},
     "output_type": "execute_result"
    }
   ],
   "source": [
    "x_train.shape"
   ]
  },
  {
   "cell_type": "code",
   "execution_count": 22,
   "id": "1af01490",
   "metadata": {},
   "outputs": [
    {
     "data": {
      "text/plain": [
       "(50000, 561)"
      ]
     },
     "execution_count": 22,
     "metadata": {},
     "output_type": "execute_result"
    }
   ],
   "source": [
    "x_test.shape"
   ]
  },
  {
   "cell_type": "code",
   "execution_count": null,
   "id": "cf74e913",
   "metadata": {},
   "outputs": [],
   "source": []
  }
 ],
 "metadata": {
  "kernelspec": {
   "display_name": "MainPy",
   "language": "python",
   "name": "python3"
  },
  "language_info": {
   "codemirror_mode": {
    "name": "ipython",
    "version": 3
   },
   "file_extension": ".py",
   "mimetype": "text/x-python",
   "name": "python",
   "nbconvert_exporter": "python",
   "pygments_lexer": "ipython3",
   "version": "3.11.0"
  }
 },
 "nbformat": 4,
 "nbformat_minor": 5
}
