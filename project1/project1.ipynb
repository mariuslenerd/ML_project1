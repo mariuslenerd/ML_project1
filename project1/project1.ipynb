{
 "cells": [
  {
   "cell_type": "code",
   "execution_count": 91,
   "id": "87e6083d",
   "metadata": {},
   "outputs": [
    {
     "data": {
      "text/plain": [
       "<module 'cross_validation' from '/Users/mpecaut/ML_project1/project1/cross_validation.py'>"
      ]
     },
     "execution_count": 91,
     "metadata": {},
     "output_type": "execute_result"
    }
   ],
   "source": [
    "import numpy as np\n",
    "import matplotlib.pyplot as plt\n",
    "from helpers import *\n",
    "import data_preprocessing\n",
    "import importlib\n",
    "importlib.reload(data_preprocessing)\n",
    "import cross_validation\n",
    "import TEST\n",
    "importlib.reload(TEST)\n",
    "importlib.reload(cross_validation)\n",
    "\n"
   ]
  },
  {
   "cell_type": "code",
   "execution_count": 92,
   "id": "f0e42811",
   "metadata": {},
   "outputs": [],
   "source": [
    "np.random.seed(42)"
   ]
  },
  {
   "cell_type": "code",
   "execution_count": 93,
   "id": "c76a2d6a",
   "metadata": {},
   "outputs": [],
   "source": [
    "#Load Data\n",
    "x_train_raw, x_test_raw,y_train_raw, train_ids, test_ids = load_csv_data('/Users/mpecaut/Documents/EPFL/MASTER/MA3/ML/projects/project1/dataset')"
   ]
  },
  {
   "cell_type": "code",
   "execution_count": 94,
   "id": "9001d786",
   "metadata": {},
   "outputs": [
    {
     "name": "stdout",
     "output_type": "stream",
     "text": [
      "(328135, 321)\n",
      "(109379, 321)\n"
     ]
    }
   ],
   "source": [
    "print(x_train_raw.shape)\n",
    "print(x_test_raw.shape)\n"
   ]
  },
  {
   "cell_type": "code",
   "execution_count": 95,
   "id": "88380452",
   "metadata": {},
   "outputs": [],
   "source": [
    "#Reformat y_train to have 0's instead of -1's\n",
    "y_train_original = y_train_raw.copy()\n",
    "y_train_raw[y_train_raw == -1] = 0"
   ]
  },
  {
   "cell_type": "code",
   "execution_count": 96,
   "id": "7f793521",
   "metadata": {},
   "outputs": [
    {
     "data": {
      "text/plain": [
       "(109379, 321)"
      ]
     },
     "execution_count": 96,
     "metadata": {},
     "output_type": "execute_result"
    }
   ],
   "source": [
    "#replace NaN by a float to treat NaN as a categorical feature\n",
    "x_test_raw = np.nan_to_num(x_test_raw, nan = -10.0)\n",
    "x_test_raw.shape"
   ]
  },
  {
   "cell_type": "markdown",
   "id": "75961310",
   "metadata": {},
   "source": [
    "### One Hot Encode"
   ]
  },
  {
   "cell_type": "code",
   "execution_count": 97,
   "id": "d1db0f6b",
   "metadata": {},
   "outputs": [],
   "source": [
    "data_annoted = data_preprocessing.read_annotated_csv('dataset/data_anotated.csv')"
   ]
  },
  {
   "cell_type": "code",
   "execution_count": 103,
   "id": "cc22ef36",
   "metadata": {},
   "outputs": [
    {
     "name": "stderr",
     "output_type": "stream",
     "text": [
      "/Users/mpecaut/ML_project1/project1/data_preprocessing.py:134: RuntimeWarning: invalid value encountered in divide\n",
      "  data = data / data.max(axis=0)\n"
     ]
    }
   ],
   "source": [
    "x_train, y_train, x_test = data_preprocessing.preprocess_data2(x_train_raw,y_train_raw, x_test_raw, data_annoted)"
   ]
  },
  {
   "cell_type": "code",
   "execution_count": 104,
   "id": "8852ad8e",
   "metadata": {},
   "outputs": [
    {
     "data": {
      "text/plain": [
       "array([1, 0, 1, ..., 0, 0, 1], shape=(57950,))"
      ]
     },
     "execution_count": 104,
     "metadata": {},
     "output_type": "execute_result"
    }
   ],
   "source": [
    "y_train"
   ]
  },
  {
   "cell_type": "code",
   "execution_count": 105,
   "id": "6f61bf54",
   "metadata": {},
   "outputs": [
    {
     "data": {
      "text/plain": [
       "(57950, 745)"
      ]
     },
     "execution_count": 105,
     "metadata": {},
     "output_type": "execute_result"
    }
   ],
   "source": [
    "x_train.shape"
   ]
  },
  {
   "cell_type": "code",
   "execution_count": 101,
   "id": "dbaed223",
   "metadata": {},
   "outputs": [
    {
     "data": {
      "text/plain": [
       "'x_train_filtered = data_preprocessing.remove_useless(x_train_raw, data_annoted)\\nx_test_filtered = data_preprocessing.remove_useless(x_test_raw, data_annoted)'"
      ]
     },
     "execution_count": 101,
     "metadata": {},
     "output_type": "execute_result"
    }
   ],
   "source": [
    "\"\"\"x_train_filtered = data_preprocessing.remove_useless(x_train_raw, data_annoted)\n",
    "x_test_filtered = data_preprocessing.remove_useless(x_test_raw, data_annoted)\"\"\""
   ]
  },
  {
   "cell_type": "code",
   "execution_count": 13,
   "id": "cf84a8bb",
   "metadata": {},
   "outputs": [
    {
     "data": {
      "text/plain": [
       "'data_train = data_preprocessing.clean_data(x_train_filtered[:100000,:], data_annoted)\\ndata_test = data_preprocessing.clean_data(x_test_filtered[:100000,:], data_annoted)'"
      ]
     },
     "execution_count": 13,
     "metadata": {},
     "output_type": "execute_result"
    }
   ],
   "source": [
    "\"\"\"data_train = data_preprocessing.clean_data(x_train_filtered[:100000,:], data_annoted)\n",
    "data_test = data_preprocessing.clean_data(x_test_filtered[:100000,:], data_annoted)\"\"\""
   ]
  },
  {
   "cell_type": "code",
   "execution_count": 14,
   "id": "14361aca",
   "metadata": {},
   "outputs": [
    {
     "ename": "NameError",
     "evalue": "name 'data_train' is not defined",
     "output_type": "error",
     "traceback": [
      "\u001b[31m---------------------------------------------------------------------------\u001b[39m",
      "\u001b[31mNameError\u001b[39m                                 Traceback (most recent call last)",
      "\u001b[36mCell\u001b[39m\u001b[36m \u001b[39m\u001b[32mIn[14]\u001b[39m\u001b[32m, line 1\u001b[39m\n\u001b[32m----> \u001b[39m\u001b[32m1\u001b[39m np.savetxt(\u001b[33m'\u001b[39m\u001b[33mx_train_preprocessed.csv\u001b[39m\u001b[33m'\u001b[39m, data_train, delimiter=\u001b[33m'\u001b[39m\u001b[33m,\u001b[39m\u001b[33m'\u001b[39m)\n\u001b[32m      2\u001b[39m np.savetxt(\u001b[33m'\u001b[39m\u001b[33mx_test_preprocessed.csv\u001b[39m\u001b[33m'\u001b[39m, data_test, delimiter=\u001b[33m'\u001b[39m\u001b[33m,\u001b[39m\u001b[33m'\u001b[39m)\n",
      "\u001b[31mNameError\u001b[39m: name 'data_train' is not defined"
     ]
    }
   ],
   "source": [
    "np.savetxt('x_train_preprocessed.csv', data_train, delimiter=',')\n",
    "np.savetxt('x_test_preprocessed.csv', data_test, delimiter=',')"
   ]
  },
  {
   "cell_type": "code",
   "execution_count": null,
   "id": "cfff5930",
   "metadata": {},
   "outputs": [],
   "source": [
    "import implemented_functions\n",
    "import importlib\n",
    "importlib.reload(implemented_functions)\n",
    "\n",
    "initial_w = np.zeros(x_train.shape[1])\n",
    "max_iters = 50\n",
    "gamma = 1\n",
    "w_sgd, loss_sgd = implemented_functions.mean_squared_error_sgd(y_train,  x_train, initial_w, max_iters, gamma)\n",
    "w_ridge, loss_ridge = implemented_functions.ridge_regression(y_train, x_train, 0.1)\n"
   ]
  },
  {
   "cell_type": "code",
   "execution_count": 84,
   "id": "ecc42ecf",
   "metadata": {},
   "outputs": [],
   "source": [
    "w_logistic, loss_logistic = implemented_functions.logistic_regression(y_train,x_train,initial_w=np.zeros(x_train.shape[1]), max_iters=10000,gamma=10000)"
   ]
  },
  {
   "cell_type": "code",
   "execution_count": null,
   "id": "e5dd05f7",
   "metadata": {},
   "outputs": [
    {
     "name": "stdout",
     "output_type": "stream",
     "text": [
      "Accuracy is 50.0%\n",
      "Accuracy is 78.1011781011781%\n",
      "Accuracy is 72.45322245322245%\n"
     ]
    }
   ],
   "source": [
    "def compute_accuracy(y_test, x_test, w):\n",
    "    y_pred = x_test@w\n",
    "    y_pred[y_pred <= 0.5] = 0\n",
    "    y_pred[y_pred > 0.5] = 1\n",
    "    computed_accuracy = np.sum(y_pred == y_test)/len(y_test)\n",
    "    print(f\"Accuracy is {computed_accuracy*100}%\")\n",
    "    return computed_accuracy, y_pred\n",
    "\n",
    "accuracy, y_pred = compute_accuracy(y_train[:100000], x_train, w_sgd)\n",
    "np.count_nonzero(y_pred == 1)\n",
    "\n",
    "accuracy, y_pred = compute_accuracy(y_train[:100000], x_train, w_ridge)\n",
    "np.count_nonzero(y_pred == 1)\n",
    "\n",
    "\n",
    "accuracy_log,y_pred_log = compute_accuracy(y_train[:100000],x_train,w_logistic)"
   ]
  },
  {
   "cell_type": "code",
   "execution_count": 58,
   "id": "5aaa2528",
   "metadata": {},
   "outputs": [],
   "source": [
    "#TEST.test(x_train, y_train)"
   ]
  },
  {
   "cell_type": "code",
   "execution_count": null,
   "id": "81e29274",
   "metadata": {},
   "outputs": [
    {
     "name": "stderr",
     "output_type": "stream",
     "text": [
      "/Users/mpecaut/ML_project1/project1/implemented_functions.py:53: RuntimeWarning: overflow encountered in matmul\n",
      "  MSE_loss = 1 / (2*N) * (e.T @ e)\n",
      "/Users/mpecaut/ML_project1/project1/implemented_functions.py:75: RuntimeWarning: overflow encountered in matmul\n",
      "  return -(tx.T@e)/n\n",
      "/Users/mpecaut/ML_project1/project1/implemented_functions.py:52: RuntimeWarning: invalid value encountered in matmul\n",
      "  e = y - tx @ w\n",
      "/Users/mpecaut/ML_project1/project1/implemented_functions.py:74: RuntimeWarning: invalid value encountered in matmul\n",
      "  e = y- tx@w\n",
      "/Users/mpecaut/ML_project1/project1/implemented_functions.py:75: RuntimeWarning: invalid value encountered in matmul\n",
      "  return -(tx.T@e)/n\n",
      "/Users/mpecaut/ML_project1/project1/implemented_functions.py:52: RuntimeWarning: overflow encountered in matmul\n",
      "  e = y - tx @ w\n",
      "/Users/mpecaut/ML_project1/project1/implemented_functions.py:74: RuntimeWarning: overflow encountered in matmul\n",
      "  e = y- tx@w\n",
      "/Users/mpecaut/ML_project1/project1/implemented_functions.py:160: RuntimeWarning: overflow encountered in exp\n",
      "  return 1 / ( 1 + np.exp(-z))\n",
      "/Users/mpecaut/ML_project1/project1/implemented_functions.py:193: RuntimeWarning: overflow encountered in multiply\n",
      "  gradient[1:] += lambda_ * w[1:]\n",
      "/Users/mpecaut/ML_project1/project1/implemented_functions.py:190: RuntimeWarning: invalid value encountered in matmul\n",
      "  prediction = sigmoid(tx @ w)\n",
      "/Users/mpecaut/ML_project1/project1/implemented_functions.py:190: RuntimeWarning: overflow encountered in matmul\n",
      "  prediction = sigmoid(tx @ w)\n",
      "/Users/mpecaut/ML_project1/project1/implemented_functions.py:123: RuntimeWarning: overflow encountered in multiply\n",
      "  w = w-gamma*grad\n"
     ]
    }
   ],
   "source": [
    "TEST.test(x_train,y_train)"
   ]
  },
  {
   "cell_type": "code",
   "execution_count": null,
   "id": "fa1f7173",
   "metadata": {},
   "outputs": [],
   "source": []
  }
 ],
 "metadata": {
  "kernelspec": {
   "display_name": "empiricalmethods",
   "language": "python",
   "name": "python3"
  },
  "language_info": {
   "codemirror_mode": {
    "name": "ipython",
    "version": 3
   },
   "file_extension": ".py",
   "mimetype": "text/x-python",
   "name": "python",
   "nbconvert_exporter": "python",
   "pygments_lexer": "ipython3",
   "version": "3.13.2"
  }
 },
 "nbformat": 4,
 "nbformat_minor": 5
}
