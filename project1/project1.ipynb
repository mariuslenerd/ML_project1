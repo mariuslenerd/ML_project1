{
 "cells": [
  {
   "cell_type": "code",
   "execution_count": 286,
   "id": "87e6083d",
   "metadata": {},
   "outputs": [
    {
     "data": {
      "text/plain": [
       "<module 'data_preprocessing' from '/Users/mpecaut/ML_project1/project1/data_preprocessing.py'>"
      ]
     },
     "execution_count": 286,
     "metadata": {},
     "output_type": "execute_result"
    }
   ],
   "source": [
    "import numpy as np\n",
    "import matplotlib.pyplot as plt\n",
    "from helpers import *\n",
    "import data_preprocessing\n",
    "import importlib\n",
    "importlib.reload(data_preprocessing)\n"
   ]
  },
  {
   "cell_type": "code",
   "execution_count": 269,
   "id": "f0e42811",
   "metadata": {},
   "outputs": [],
   "source": [
    "np.random.seed(42)"
   ]
  },
  {
   "cell_type": "code",
   "execution_count": 270,
   "id": "c76a2d6a",
   "metadata": {},
   "outputs": [],
   "source": [
    "#Load Data\n",
    "x_train_raw, x_test_raw,y_train, train_ids, test_ids = load_csv_data('/Users/mpecaut/Documents/EPFL/MASTER/MA3/ML/projects/project1/dataset')"
   ]
  },
  {
   "cell_type": "code",
   "execution_count": 271,
   "id": "9001d786",
   "metadata": {},
   "outputs": [
    {
     "name": "stdout",
     "output_type": "stream",
     "text": [
      "(328135, 321)\n",
      "(109379, 321)\n"
     ]
    }
   ],
   "source": [
    "print(x_train_raw.shape)\n",
    "print(x_test_raw.shape)\n"
   ]
  },
  {
   "cell_type": "code",
   "execution_count": 272,
   "id": "88380452",
   "metadata": {},
   "outputs": [],
   "source": [
    "#Reformat y_train to have 0's instead of -1's\n",
    "y_train_original = y_train.copy()\n",
    "y_train[y_train == -1] = 0"
   ]
  },
  {
   "cell_type": "code",
   "execution_count": 273,
   "id": "7f793521",
   "metadata": {},
   "outputs": [
    {
     "data": {
      "text/plain": [
       "(109379, 321)"
      ]
     },
     "execution_count": 273,
     "metadata": {},
     "output_type": "execute_result"
    }
   ],
   "source": [
    "#replace NaN by a float to treat NaN as a categorical feature\n",
    "x_test_raw = np.nan_to_num(x_test_raw, nan = -10.0)\n",
    "x_test_raw.shape"
   ]
  },
  {
   "cell_type": "code",
   "execution_count": 274,
   "id": "58a1a3d8",
   "metadata": {},
   "outputs": [
    {
     "name": "stdout",
     "output_type": "stream",
     "text": [
      "299160\n",
      "28975\n",
      "328135\n"
     ]
    }
   ],
   "source": [
    "#look at ratio of heart attack/no heart attack in y\n",
    "print(len(y_train[y_train == 0]))\n",
    "print(len(y_train[y_train==1]))\n",
    "print(len(y_train))"
   ]
  },
  {
   "cell_type": "markdown",
   "id": "75961310",
   "metadata": {},
   "source": [
    "### One Hot Encode"
   ]
  },
  {
   "cell_type": "code",
   "execution_count": null,
   "id": "d1db0f6b",
   "metadata": {},
   "outputs": [],
   "source": [
    "data_annoted = data_preprocessing.read_annotated_csv('/Users/mpecaut/Documents/EPFL/MASTER/MA3/ML/projects/project1/dataset/data_anotated.csv')"
   ]
  },
  {
   "cell_type": "code",
   "execution_count": null,
   "id": "dbaed223",
   "metadata": {},
   "outputs": [],
   "source": [
    "x_train_filtered = data_preprocessing.remove_useless(x_train_raw, data_annoted)\n",
    "x_test_filtered = data_preprocessing.remove_useless(x_test_raw, data_annoted)"
   ]
  },
  {
   "cell_type": "code",
   "execution_count": null,
   "id": "cf84a8bb",
   "metadata": {},
   "outputs": [
    {
     "name": "stdout",
     "output_type": "stream",
     "text": [
      "[[0. 0. 1. ... 0. 1. 0.]\n",
      " [0. 0. 1. ... 0. 0. 1.]\n",
      " [0. 0. 1. ... 0. 1. 0.]\n",
      " ...\n",
      " [0. 0. 1. ... 0. 1. 0.]\n",
      " [0. 0. 1. ... 0. 1. 0.]\n",
      " [0. 0. 1. ... 0. 1. 0.]]\n",
      "-------------------------\n",
      "[[ 1.  5. 88. ...  0.  0.  0.]\n",
      " [88. 88.  0. ...  1.  1.  1.]\n",
      " [ 0.  0. 88. ...  0.  0.  0.]\n",
      " ...\n",
      " [88.  1. 88. ...  0.  0.  0.]\n",
      " [88. 88.  0. ...  0.  0.  0.]\n",
      " [ 7.  7.  2. ...  0.  0.  0.]]\n"
     ]
    }
   ],
   "source": [
    "data_train = data_preprocessing.clean_data(x_train_filtered, data_annoted)\n",
    "data_test = data_preprocessing.clean_data(x_test_filtered, data_annoted)"
   ]
  }
 ],
 "metadata": {
  "kernelspec": {
   "display_name": "MLforfinance",
   "language": "python",
   "name": "python3"
  },
  "language_info": {
   "codemirror_mode": {
    "name": "ipython",
    "version": 3
   },
   "file_extension": ".py",
   "mimetype": "text/x-python",
   "name": "python",
   "nbconvert_exporter": "python",
   "pygments_lexer": "ipython3",
   "version": "3.12.2"
  }
 },
 "nbformat": 4,
 "nbformat_minor": 5
}
