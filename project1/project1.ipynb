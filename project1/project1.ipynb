{
 "cells": [
  {
   "cell_type": "code",
   "execution_count": 301,
   "id": "87e6083d",
   "metadata": {},
   "outputs": [
    {
     "data": {
      "text/plain": [
       "<module 'data_preprocessing' from '/Users/mpecaut/ML_project1/project1/data_preprocessing.py'>"
      ]
     },
     "execution_count": 301,
     "metadata": {},
     "output_type": "execute_result"
    }
   ],
   "source": [
    "import numpy as np\n",
    "import matplotlib.pyplot as plt\n",
    "from helpers import *\n",
    "import data_preprocessing\n",
    "import importlib\n",
    "importlib.reload(data_preprocessing)"
   ]
  },
  {
   "cell_type": "code",
   "execution_count": 278,
   "id": "f0e42811",
   "metadata": {},
   "outputs": [],
   "source": [
    "np.random.seed(42)"
   ]
  },
  {
   "cell_type": "code",
   "execution_count": 279,
   "id": "c76a2d6a",
   "metadata": {},
   "outputs": [],
   "source": [
    "#Load Data\n",
    "x_train_raw, x_test_raw,y_train, train_ids, test_ids = load_csv_data('/Users/mpecaut/Documents/EPFL/MASTER/MA3/ML/projects/project1/dataset')"
   ]
  },
  {
   "cell_type": "code",
   "execution_count": 280,
   "id": "9001d786",
   "metadata": {},
   "outputs": [
    {
     "name": "stdout",
     "output_type": "stream",
     "text": [
      "(328135, 321)\n",
      "(109379, 321)\n"
     ]
    }
   ],
   "source": [
    "print(x_train_raw.shape)\n",
    "print(x_test_raw.shape)"
   ]
  },
  {
   "cell_type": "code",
   "execution_count": 281,
   "id": "88380452",
   "metadata": {},
   "outputs": [],
   "source": [
    "#Reformat y_train to have 0's instead of -1's\n",
    "y_train_original = y_train.copy()\n",
    "y_train[y_train == -1] = 0"
   ]
  },
  {
   "cell_type": "code",
   "execution_count": 282,
   "id": "7f793521",
   "metadata": {},
   "outputs": [
    {
     "data": {
      "text/plain": [
       "(109379, 321)"
      ]
     },
     "execution_count": 282,
     "metadata": {},
     "output_type": "execute_result"
    }
   ],
   "source": [
    "#replace NaN by a float to treat NaN as a categorical feature\n",
    "x_test_raw = np.nan_to_num(x_test_raw, nan = -10.0)\n",
    "x_test_raw.shape"
   ]
  },
  {
   "cell_type": "code",
   "execution_count": 283,
   "id": "58a1a3d8",
   "metadata": {},
   "outputs": [
    {
     "name": "stdout",
     "output_type": "stream",
     "text": [
      "299160\n",
      "28975\n",
      "328135\n"
     ]
    }
   ],
   "source": [
    "#look at ratio of heart attack/no heart attack in y\n",
    "print(len(y_train[y_train == 0]))\n",
    "print(len(y_train[y_train==1]))\n",
    "print(len(y_train))"
   ]
  },
  {
   "cell_type": "markdown",
   "id": "75961310",
   "metadata": {},
   "source": [
    "### One Hot Encode"
   ]
  },
  {
   "cell_type": "code",
   "execution_count": 302,
   "id": "d1db0f6b",
   "metadata": {},
   "outputs": [],
   "source": [
    "data_annoted = data_preprocessing.read_annotated_csv('/Users/mpecaut/Documents/EPFL/MASTER/MA3/ML/projects/project1/dataset/data_annoted.csv')"
   ]
  },
  {
   "cell_type": "code",
   "execution_count": 313,
   "id": "d403df68",
   "metadata": {},
   "outputs": [
    {
     "name": "stdout",
     "output_type": "stream",
     "text": [
      "(321, 7)\n"
     ]
    }
   ],
   "source": [
    "print(data_annoted.shape) #ok good format\n"
   ]
  },
  {
   "cell_type": "code",
   "execution_count": 304,
   "id": "dbaed223",
   "metadata": {},
   "outputs": [],
   "source": [
    "#we are good ; last column is being used \n",
    "#next : keep only useful features manually selected : \"keep\" = 0 --> drop feature, \"keep\" = 1 --> keep feature\n",
    "x_train_filtered = data_preprocessing.remove_useless(x_train_raw, data_annoted)\n",
    "x_test_filtered = data_preprocessing.remove_useless(x_test_raw, data_annoted)"
   ]
  },
  {
   "cell_type": "code",
   "execution_count": null,
   "id": "cf84a8bb",
   "metadata": {},
   "outputs": [],
   "source": [
    "#now that we have removed the useless features, we will separate the categorical from numerical features\n",
    "#we have manually selected the features that are categorical and numerical as well as precising the number of categories\n",
    "#numerical/categorical : column 1 in data_annotated\n",
    "x_train_cat, x_train_num, data_annoted_cat= data_preprocessing.separate_cat_and_num(x_train_filtered, data_annoted)\n",
    "x_test_cat, x_test_num, data_annoted_cat= data_preprocessing.separate_cat_and_num(x_test_filtered, data_annoted)"
   ]
  },
  {
   "cell_type": "code",
   "execution_count": 308,
   "id": "592a6980",
   "metadata": {},
   "outputs": [],
   "source": [
    "onehot_x_train = data_preprocessing.one_hot_encode(x_train_cat,data_annoted_cat)"
   ]
  },
  {
   "cell_type": "code",
   "execution_count": 310,
   "id": "1bae54df",
   "metadata": {},
   "outputs": [
    {
     "data": {
      "text/plain": [
       "(328135, 612)"
      ]
     },
     "metadata": {},
     "output_type": "display_data"
    }
   ],
   "source": [
    "display(onehot_x_train.shape)"
   ]
  },
  {
   "cell_type": "code",
   "execution_count": 311,
   "id": "593ebf88",
   "metadata": {},
   "outputs": [],
   "source": [
    "onehot_x_test = data_preprocessing.one_hot_encode(x_test_cat, data_annoted_cat)"
   ]
  },
  {
   "cell_type": "code",
   "execution_count": 312,
   "id": "442d50d4",
   "metadata": {},
   "outputs": [
    {
     "data": {
      "text/plain": [
       "(109379, 534)"
      ]
     },
     "metadata": {},
     "output_type": "display_data"
    }
   ],
   "source": [
    "display(onehot_x_test.shape)"
   ]
  },
  {
   "cell_type": "markdown",
   "id": "9a4ed4c5",
   "metadata": {},
   "source": []
  },
  {
   "cell_type": "code",
   "execution_count": null,
   "id": "6bfabcbf",
   "metadata": {},
   "outputs": [],
   "source": []
  }
 ],
 "metadata": {
  "kernelspec": {
   "display_name": "MLforfinance",
   "language": "python",
   "name": "python3"
  },
  "language_info": {
   "codemirror_mode": {
    "name": "ipython",
    "version": 3
   },
   "file_extension": ".py",
   "mimetype": "text/x-python",
   "name": "python",
   "nbconvert_exporter": "python",
   "pygments_lexer": "ipython3",
   "version": "3.12.2"
  }
 },
 "nbformat": 4,
 "nbformat_minor": 5
}
